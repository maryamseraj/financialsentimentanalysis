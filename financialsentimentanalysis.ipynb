{
 "cells": [
  {
   "cell_type": "markdown",
   "metadata": {},
   "source": [
    "want to include:\n",
    "- webscraping\n",
    "- api\n",
    "- matplotlib\n",
    "- seaborn\n",
    "- pandas\n",
    "- numpy\n",
    "- sql\n",
    "- nlp"
   ]
  },
  {
   "cell_type": "markdown",
   "metadata": {},
   "source": [
    "steps:\n",
    "- data collection\n",
    "- preprocess data (nlp)\n",
    "- sentiment analysis\n",
    "- stock price data\n",
    "- train machine learning model\n",
    "- visualisation and insights"
   ]
  },
  {
   "cell_type": "code",
   "execution_count": null,
   "metadata": {},
   "outputs": [],
   "source": [
    "# hihuhjnfefdqjhdiq"
   ]
  }
 ],
 "metadata": {
  "kernelspec": {
   "display_name": "Python 3",
   "language": "python",
   "name": "python3"
  },
  "language_info": {
   "codemirror_mode": {
    "name": "ipython",
    "version": 3
   },
   "file_extension": ".py",
   "mimetype": "text/x-python",
   "name": "python",
   "nbconvert_exporter": "python",
   "pygments_lexer": "ipython3",
   "version": "3.8.5"
  }
 },
 "nbformat": 4,
 "nbformat_minor": 4
}
